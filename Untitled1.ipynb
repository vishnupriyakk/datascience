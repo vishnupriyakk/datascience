{
 "cells": [
  {
   "cell_type": "code",
   "execution_count": 1,
   "id": "17f59ff2-68b8-49cc-a8cc-a1a9eb58881b",
   "metadata": {},
   "outputs": [],
   "source": [
    "\n",
    "\n",
    "import pandas as pd\n",
    "import numpy as np\n",
    "import matplotlib.pyplot as plt\n",
    "from sklearn.model_selection import train_test_split\n",
    "from sklearn.preprocessing import StandardScaler\n",
    "from sklearn.svm import SVC\n",
    "from sklearn.metrics import confusion_matrix,accuracy_score,classification_report\n",
    "from sklearn.model_selection import GridSearchCV\n"
   ]
  },
  {
   "cell_type": "code",
   "execution_count": 2,
   "id": "a7b978e3-343c-4c8b-a703-d26394d8dff1",
   "metadata": {},
   "outputs": [],
   "source": [
    "data=pd.read_csv(\"archive.zip\")\n"
   ]
  },
  {
   "cell_type": "code",
   "execution_count": 3,
   "id": "227fdc6f-b214-42a0-82de-532b17b3ea27",
   "metadata": {},
   "outputs": [],
   "source": [
    "x=data.iloc[:,0:2]\n",
    "y=data.iloc[:,-1]\n"
   ]
  },
  {
   "cell_type": "code",
   "execution_count": 4,
   "id": "91f673eb-db12-486e-8fd6-d3d6bdad5475",
   "metadata": {},
   "outputs": [],
   "source": [
    "xtrain,xtest,ytrain,ytest=train_test_split(x,y,train_size=0.8,random_state=(0))\n"
   ]
  },
  {
   "cell_type": "code",
   "execution_count": 5,
   "id": "aa0a2e10-7aa9-4b7a-a0f2-f7061cf93d80",
   "metadata": {},
   "outputs": [],
   "source": [
    "sc=StandardScaler()\n"
   ]
  },
  {
   "cell_type": "code",
   "execution_count": 6,
   "id": "e3446838-b700-47f6-889f-94274c9367f8",
   "metadata": {},
   "outputs": [],
   "source": [
    "xtrain=sc.fit_transform(xtrain)\n",
    "xtest=sc.transform(xtest)\n"
   ]
  },
  {
   "cell_type": "code",
   "execution_count": 7,
   "id": "0de784ff-07ab-453d-ac1c-5cfa8458be02",
   "metadata": {},
   "outputs": [],
   "source": [
    "model=SVC(kernel='linear',random_state=0)\n"
   ]
  },
  {
   "cell_type": "code",
   "execution_count": 8,
   "id": "11468cbb-6f21-4b24-92d9-2fdfb914c755",
   "metadata": {},
   "outputs": [],
   "source": [
    "params={'kernel':['linear','rbf','poly','sigmoid'],'gamma':[5,10,15],'C':[1,10,20]}\n"
   ]
  },
  {
   "cell_type": "code",
   "execution_count": 9,
   "id": "4d5a6bd2-79c4-4aaa-ab6f-fe8ef485bb52",
   "metadata": {},
   "outputs": [],
   "source": [
    "gst_cv=GridSearchCV(estimator=SVC(), param_grid=params,return_train_score=(True))\n"
   ]
  },
  {
   "cell_type": "code",
   "execution_count": 10,
   "id": "7fcb00bf-cb13-4fff-8d64-2f18d57a9443",
   "metadata": {},
   "outputs": [
    {
     "data": {
      "text/plain": [
       "GridSearchCV(estimator=SVC(),\n",
       "             param_grid={'C': [1, 10, 20], 'gamma': [5, 10, 15],\n",
       "                         'kernel': ['linear', 'rbf', 'poly', 'sigmoid']},\n",
       "             return_train_score=True)"
      ]
     },
     "execution_count": 10,
     "metadata": {},
     "output_type": "execute_result"
    }
   ],
   "source": [
    "gst_cv.fit(xtrain,ytrain)\n"
   ]
  },
  {
   "cell_type": "code",
   "execution_count": 11,
   "id": "89477d84-a23b-45ee-becf-322f2abfe3ff",
   "metadata": {},
   "outputs": [
    {
     "name": "stdout",
     "output_type": "stream",
     "text": [
      "{'C': 1, 'gamma': 10, 'kernel': 'rbf'}\n",
      "0.9125\n"
     ]
    }
   ],
   "source": [
    "print(gst_cv.best_params_)\n",
    "print(gst_cv.best_score_)\n"
   ]
  },
  {
   "cell_type": "code",
   "execution_count": null,
   "id": "e7d60996-8db3-43b7-abe8-d59ca0850033",
   "metadata": {},
   "outputs": [],
   "source": []
  }
 ],
 "metadata": {
  "kernelspec": {
   "display_name": "Python 3 (ipykernel)",
   "language": "python",
   "name": "python3"
  },
  "language_info": {
   "codemirror_mode": {
    "name": "ipython",
    "version": 3
   },
   "file_extension": ".py",
   "mimetype": "text/x-python",
   "name": "python",
   "nbconvert_exporter": "python",
   "pygments_lexer": "ipython3",
   "version": "3.9.13"
  }
 },
 "nbformat": 4,
 "nbformat_minor": 5
}
